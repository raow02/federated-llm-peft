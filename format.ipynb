{
 "cells": [
  {
   "cell_type": "code",
   "execution_count": 1,
   "metadata": {
    "executionInfo": {
     "elapsed": 41,
     "status": "ok",
     "timestamp": 1744868286225,
     "user": {
      "displayName": "Wang Rao",
      "userId": "02491972522068568822"
     },
     "user_tz": 240
    },
    "id": "149OwE0WkJCQ"
   },
   "outputs": [],
   "source": [
    "import json\n",
    "import numpy as np\n",
    "import os\n",
    "\n",
    "def print_tex_result(results_file, primary_metrics, percent_metrics):\n",
    "    with open(results_file, 'r') as f:\n",
    "        results = json.load(f)\n",
    "\n",
    "    task_metrics = {}\n",
    "    for task, metric_name in primary_metrics.items():\n",
    "        if task in results and metric_name in results[task]:\n",
    "            value = results[task][metric_name]\n",
    "            if metric_name in percent_metrics:\n",
    "                task_metrics[task] = value * 100\n",
    "            else:\n",
    "                task_metrics[task] = value\n",
    "        else:\n",
    "            task_metrics[task] = np.nan\n",
    "    return task_metrics"
   ]
  },
  {
   "cell_type": "code",
   "execution_count": 15,
   "metadata": {
    "colab": {
     "base_uri": "https://localhost:8080/"
    },
    "executionInfo": {
     "elapsed": 6,
     "status": "ok",
     "timestamp": 1744868633631,
     "user": {
      "displayName": "Wang Rao",
      "userId": "02491972522068568822"
     },
     "user_tz": 240
    },
    "id": "2VPQE_zsLXFT",
    "outputId": "e92e4ada-3e4c-40a2-ce85-54abe86870a8"
   },
   "outputs": [
    {
     "name": "stdout",
     "output_type": "stream",
     "text": [
      "& 0 & 55.50 & 35.50 & 50.50 & 55.76 & 35.00 & 37.35 & 85.37 & 67.11 \\\\\n",
      "& 1 & 56.00 & 37.50 & 41.50 & 67.94 & 36.50 & 36.87 & 86.73 & 67.11 \\\\\n",
      "& 2 & \\textbf{57.50} & 43.00 & \\textbf{57.50} & \\textbf{75.00} & 40.00 & 35.34 & 85.79 & \\textbf{67.55} \\\\\n",
      "& 3 & 55.00 & 36.50 & 49.50 & 47.52 & 37.00 & 35.55 & 85.72 & \\textbf{67.55} \\\\\n",
      "& 4 & 53.50 & \\textbf{43.50} & 49.50 & 70.04 & \\textbf{45.00} & 36.00 & 84.67 & \\textbf{67.55} \\\\\n",
      "& 5 & 34.50 & 0.00 & 0.00 & 0.00 & 0.50 & \\textbf{42.89} & 85.26 & 18.18 \\\\\n",
      "& 6 & 36.50 & 0.00 & 0.00 & 2.96 & 2.00 & 39.67 & \\textbf{90.80} & 29.06 \\\\\n",
      "& 7 & 54.00 & 39.50 & 53.50 & 72.08 & 39.00 & 36.31 & 85.23 & 67.11 \\\\\n",
      "\\cline{2-10}\n",
      "& avg & 50.31 & 29.44 & 37.75 & 48.91 & 29.38 & 37.50 & 86.20 & 56.40 \\\\\n",
      "& best & 57.50 & 43.50 & 57.50 & 75.00 & 45.00 & 42.89 & 90.80 & 67.55 \\\\\n"
     ]
    }
   ],
   "source": [
    "results_dir = \"evaluations_new_new/none-3B-midway/20\"\n",
    "is_global_model = False\n",
    "\n",
    "primary_metrics = {\n",
    "    \"coreference\": \"accuracy\",\n",
    "    \"entailment\": \"accuracy\",\n",
    "    \"linguistic_acceptability\": \"accuracy\",\n",
    "    \"paraphrase\": \"f1_score\",\n",
    "    \"question_classification\": \"accuracy\",\n",
    "    \"structure_to_text\": \"rougeL\",\n",
    "    \"text_formatting\": \"rougeL\",\n",
    "    \"word_disambiguation\": \"f1_score\"\n",
    "}\n",
    "percent_metrics = {\"accuracy\", \"f1_score\", \"rougeL\"}\n",
    "latex_order = list(primary_metrics.keys())\n",
    "\n",
    "if is_global_model:\n",
    "    results_path = os.path.join(results_dir, \"global_output_metrics.json\")\n",
    "    metrics = print_tex_result(results_path, primary_metrics, percent_metrics)\n",
    "    latex_row = \" & \".join([f\"{metrics[task]:.2f}\" for task in latex_order]) + \" \\\\\\\\\"\n",
    "    print(latex_row)\n",
    "\n",
    "else:\n",
    "    all_rows = []\n",
    "    # 1) load everything\n",
    "    for i in range(8):\n",
    "        results_path = os.path.join(results_dir, f\"client_{i}_output_metrics.json\")\n",
    "        task_metrics = print_tex_result(results_path, primary_metrics, percent_metrics)\n",
    "        all_rows.append([task_metrics[task] for task in latex_order])\n",
    "\n",
    "    all_array   = np.array(all_rows)\n",
    "    best_values = np.nanmax(all_array, axis=0)\n",
    "    avg_values  = np.nanmean(all_array, axis=0)\n",
    "\n",
    "    # 2) print per‐client rows, bolding only the column‐wise maxima\n",
    "    for i, row_vals in enumerate(all_rows):\n",
    "        cells = []\n",
    "        for val, best in zip(row_vals, best_values):\n",
    "            if np.isclose(val, best):\n",
    "                cells.append(f\"\\\\textbf{{{val:.2f}}}\")\n",
    "            else:\n",
    "                cells.append(f\"{val:.2f}\")\n",
    "        print(f\"& {i} & \" + \" & \".join(cells) + \" \\\\\\\\\")\n",
    "\n",
    "    # 3) average row\n",
    "    print('\\\\cline{2-10}')\n",
    "    avg_cells = [f\"{v:.2f}\" for v in avg_values]\n",
    "    print(f\"& avg & \" + \" & \".join(avg_cells) + \" \\\\\\\\\")\n",
    "\n",
    "    # 4) best row (still bold)\n",
    "    best_cells = [f\"{v:.2f}\" for v in best_values]\n",
    "    print(f\"& best & \" + \" & \".join(best_cells) + \" \\\\\\\\\")"
   ]
  }
 ],
 "metadata": {
  "colab": {
   "authorship_tag": "ABX9TyODRrMkgL9BwBuSuCHRTfMB",
   "provenance": []
  },
  "kernelspec": {
   "display_name": "HFL",
   "language": "python",
   "name": "python3"
  },
  "language_info": {
   "codemirror_mode": {
    "name": "ipython",
    "version": 3
   },
   "file_extension": ".py",
   "mimetype": "text/x-python",
   "name": "python",
   "nbconvert_exporter": "python",
   "pygments_lexer": "ipython3",
   "version": "3.12.9"
  }
 },
 "nbformat": 4,
 "nbformat_minor": 0
}
